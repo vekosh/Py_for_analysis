{
 "cells": [
  {
   "cell_type": "markdown",
   "id": "90f16a28",
   "metadata": {},
   "source": [
    "## Задача №1\n",
    "Задача №1\n",
    "Оформляйте ноутбук, используя эти советы: Номер задачи - заголовок 2 Номер подзадачи - заголовок 3"
   ]
  },
  {
   "cell_type": "code",
   "execution_count": 1,
   "id": "ed81d90f",
   "metadata": {},
   "outputs": [],
   "source": [
    "# Предоставленные наборы данных оформляйте, как код"
   ]
  },
  {
   "cell_type": "markdown",
   "id": "7a4d8ba7",
   "metadata": {},
   "source": [
    "## Задача №2"
   ]
  },
  {
   "cell_type": "code",
   "execution_count": 4,
   "id": "e7d39256",
   "metadata": {},
   "outputs": [],
   "source": [
    "# На складе лежат разные фрукты в разном количестве. Нужно написать функцию, которая на вход принимает\n",
    "# любое количество названий фруктов и их количество, а возвращает общее количество фруктов на складе"
   ]
  },
  {
   "cell_type": "code",
   "execution_count": 5,
   "id": "23dcbd16",
   "metadata": {},
   "outputs": [
    {
     "name": "stdout",
     "output_type": "stream",
     "text": [
      "Суммарное количество фруктов на складе: 139\n"
     ]
    }
   ],
   "source": [
    "total_fruits = {'melon ': 65, 'bananas ': 14, 'peaches': 38, 'apples': 22}\n",
    "total = 0\n",
    " \n",
    "for item in total_fruits.values():\n",
    "    total += item\n",
    "print('Суммарное количество фруктов на складе:', total)"
   ]
  },
  {
   "cell_type": "markdown",
   "id": "e091571f",
   "metadata": {},
   "source": [
    "## Задача №3"
   ]
  },
  {
   "cell_type": "code",
   "execution_count": 6,
   "id": "aa1b7646",
   "metadata": {},
   "outputs": [],
   "source": [
    "# Дан список с затратами на рекламу. Но в данных есть ошибки, некоторые затраты имеют отрицательную величину.\n",
    "# Удалите такие значения из списка и посчитайте суммарные затраты [100, 125, -90, 345, 655, -1, 0, 200]\n",
    "# Используйте list comprehensions"
   ]
  },
  {
   "cell_type": "code",
   "execution_count": 7,
   "id": "706aad41",
   "metadata": {},
   "outputs": [
    {
     "name": "stdout",
     "output_type": "stream",
     "text": [
      "Актуальный список цен: [100, 125, 345, 655, 200]\n"
     ]
    }
   ],
   "source": [
    "price_list = [100, 125, -90, 345, 655, -1, 0, 200]\n",
    "prices = [i for i in price_list if i > 0]\n",
    "print('Актуальный список цен:', prices)"
   ]
  },
  {
   "cell_type": "code",
   "execution_count": 8,
   "id": "92b05018",
   "metadata": {},
   "outputs": [
    {
     "name": "stdout",
     "output_type": "stream",
     "text": [
      "Суммарные затраты на рекламу: 1425\n"
     ]
    }
   ],
   "source": [
    "print('Суммарные затраты на рекламу:', sum(prices))"
   ]
  },
  {
   "cell_type": "markdown",
   "id": "02a10650",
   "metadata": {},
   "source": [
    "## Задача №4"
   ]
  },
  {
   "cell_type": "code",
   "execution_count": 9,
   "id": "0695086e",
   "metadata": {},
   "outputs": [],
   "source": [
    "# Даны два списка.\n",
    "# Дата покупки\n",
    "\n",
    "# ['2021-09-14', '2021-12-15', '2021-09-08', '2021-12-05', '2021-10-09', '2021-09-30', '2021-12-22', '2021-11-29', '2021-12-24',\n",
    "#  '2021-11-26', '2021-10-27', '2021-12-18', '2021-11-09', '2021-11-23', '2021-09-27', '2021-10-02', '2021-12-27', '2021-09-20',\n",
    "#  '2021-12-13', '2021-11-01', '2021-11-09', '2021-12-06', '2021-12-08', '2021-10-09', '2021-10-31', '2021-09-30', '2021-11-09',\n",
    "#  '2021-12-13', '2021-10-26', '2021-12-09']\n",
    "\n",
    "# Суммы покупок по датам\n",
    "\n",
    "# [1270, 8413, 9028, 3703, 5739, 4095, 295, 4944, 5723, 3701, 4471, 651, 7037, 4274, 6275, 4988, 6930, 2971, 6592, 2004, 2822,\n",
    "#  519, 3406, 2732, 5015, 2008, 316, 6333, 5700, 2887]"
   ]
  },
  {
   "cell_type": "markdown",
   "id": "1f2ed290",
   "metadata": {},
   "source": [
    "### Подзадача 4.1"
   ]
  },
  {
   "cell_type": "code",
   "execution_count": 10,
   "id": "7a3b9507",
   "metadata": {},
   "outputs": [],
   "source": [
    "# Найдите, какая выручка у компании в ноябре\n",
    "# Используйте list comprehensions"
   ]
  },
  {
   "cell_type": "code",
   "execution_count": 11,
   "id": "abba7208",
   "metadata": {},
   "outputs": [],
   "source": [
    "date_list = ['2021-09-14', '2021-12-15', '2021-09-08', '2021-12-05', '2021-10-09', '2021-09-30', '2021-12-22', '2021-11-29',\n",
    "        '2021-12-24', '2021-11-26', '2021-10-27', '2021-12-18', '2021-11-09', '2021-11-23', '2021-09-27', '2021-10-02',\n",
    "        '2021-12-27', '2021-09-20', '2021-12-13', '2021-11-01', '2021-11-09', '2021-12-06', '2021-12-08', '2021-10-09',\n",
    "        '2021-10-31', '2021-09-30', '2021-11-09', '2021-12-13', '2021-10-26', '2021-12-09']\n",
    "sum_list = [1270, 8413, 9028, 3703, 5739, 4095, 295, 4944, 5723, 3701, 4471, 651, 7037, 4274, 6275, 4988, 6930, 2971, 6592,\n",
    "         2004, 2822, 519, 3406, 2732, 5015, 2008, 316, 6333, 5700, 2887]"
   ]
  },
  {
   "cell_type": "code",
   "execution_count": 12,
   "id": "8ecca320",
   "metadata": {},
   "outputs": [],
   "source": [
    "monthly_sum = sum([m for d, m in zip(date_list, sum_list) if d[5:7] == \"11\"])"
   ]
  },
  {
   "cell_type": "code",
   "execution_count": 13,
   "id": "1f33849a",
   "metadata": {},
   "outputs": [
    {
     "name": "stdout",
     "output_type": "stream",
     "text": [
      "Выручка компании в ноябре составила: 25098 рублей\n"
     ]
    }
   ],
   "source": [
    "print('Выручка компании в ноябре составила:', monthly_sum, 'рублей')"
   ]
  },
  {
   "cell_type": "markdown",
   "id": "37265239",
   "metadata": {},
   "source": [
    "### Подзадача 4.2"
   ]
  },
  {
   "cell_type": "code",
   "execution_count": 14,
   "id": "75806ae9",
   "metadata": {},
   "outputs": [],
   "source": [
    "# Найдите выручку компании в зависимости от месяца\n",
    "# Для этого напишите функцию, которая на вход принимает список с датами и список с выручкой, а на выходе словарь, \n",
    "# где ключи - это месяцы, а значения - это выручка. Используйте аннотирование типов."
   ]
  },
  {
   "cell_type": "code",
   "execution_count": 15,
   "id": "6fb242af",
   "metadata": {},
   "outputs": [
    {
     "name": "stdout",
     "output_type": "stream",
     "text": [
      "{'09': 25647, '12': 45452, '10': 28645, '11': 25098}\n"
     ]
    }
   ],
   "source": [
    "def monthly (date_list: list, sum_list: list) -> dict:\n",
    "    res = {}\n",
    "    for d, m in zip(date_list, sum_list):\n",
    "        if d[5:7] in res.keys():\n",
    "            res[d[5:7]] = res[d[5:7]] + m\n",
    "        else:\n",
    "            res[d[5:7]] = m\n",
    "    return res\n",
    " \n",
    "print(monthly(date_list, sum_list))"
   ]
  },
  {
   "cell_type": "code",
   "execution_count": null,
   "id": "e60690e3",
   "metadata": {},
   "outputs": [],
   "source": []
  }
 ],
 "metadata": {
  "kernelspec": {
   "display_name": "Python 3 (ipykernel)",
   "language": "python",
   "name": "python3"
  },
  "language_info": {
   "codemirror_mode": {
    "name": "ipython",
    "version": 3
   },
   "file_extension": ".py",
   "mimetype": "text/x-python",
   "name": "python",
   "nbconvert_exporter": "python",
   "pygments_lexer": "ipython3",
   "version": "3.9.13"
  }
 },
 "nbformat": 4,
 "nbformat_minor": 5
}
